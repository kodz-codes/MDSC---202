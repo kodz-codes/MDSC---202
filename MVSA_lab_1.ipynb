{
  "nbformat": 4,
  "nbformat_minor": 0,
  "metadata": {
    "colab": {
      "provenance": []
    },
    "kernelspec": {
      "name": "ir",
      "display_name": "R"
    },
    "language_info": {
      "name": "R"
    }
  },
  "cells": [
    {
      "cell_type": "code",
      "execution_count": null,
      "metadata": {
        "id": "2KNOvsiHrEgc"
      },
      "outputs": [],
      "source": [
        "# %load_ext rpy2.ipython"
      ]
    },
    {
      "cell_type": "code",
      "source": [
        "# %%R\n",
        "# Your R code here"
      ],
      "metadata": {
        "id": "L9nZ-6cJtHSK"
      },
      "execution_count": null,
      "outputs": []
    },
    {
      "cell_type": "code",
      "source": [
        "# !pip install rpy2"
      ],
      "metadata": {
        "id": "ywmlmy54tRA2"
      },
      "execution_count": null,
      "outputs": []
    },
    {
      "cell_type": "code",
      "source": [
        "# Load the R extension\n",
        "# %reload_ext rpy2.ipython"
      ],
      "metadata": {
        "id": "fccjnMdvw4Vu"
      },
      "execution_count": null,
      "outputs": []
    },
    {
      "cell_type": "code",
      "source": [
        "# Matrix Structure - m rows, n columns, mn entries having unique position\n",
        "A <- matrix(data = c(-3,2,893,0.17),nrow = 2, ncol = 2)\n",
        "A"
      ],
      "metadata": {
        "colab": {
          "base_uri": "https://localhost:8080/",
          "height": 114
        },
        "id": "QOUcQ6k6ybW7",
        "outputId": "fa6e0034-ff62-4053-b630-e27f7d42268b"
      },
      "execution_count": null,
      "outputs": [
        {
          "output_type": "display_data",
          "data": {
            "text/html": [
              "<table class=\"dataframe\">\n",
              "<caption>A matrix: 2 × 2 of type dbl</caption>\n",
              "<tbody>\n",
              "\t<tr><td>-3</td><td>893.00</td></tr>\n",
              "\t<tr><td> 2</td><td>  0.17</td></tr>\n",
              "</tbody>\n",
              "</table>\n"
            ],
            "text/markdown": "\nA matrix: 2 × 2 of type dbl\n\n| -3 | 893.00 |\n|  2 |   0.17 |\n\n",
            "text/latex": "A matrix: 2 × 2 of type dbl\n\\begin{tabular}{ll}\n\t -3 & 893.00\\\\\n\t  2 &   0.17\\\\\n\\end{tabular}\n",
            "text/plain": [
              "     [,1] [,2]  \n",
              "[1,] -3   893.00\n",
              "[2,]  2     0.17"
            ]
          },
          "metadata": {}
        }
      ]
    },
    {
      "cell_type": "code",
      "source": [
        "# Matrix Structure - data is arranged in column manner by default, without suplying nrow and ncol R returns a column matrix, arrangement of data could be controlled by \"byrow\" argument\n",
        "mat_col = matrix(data = c(1,2,3,4,5,6), nrow = 2, ncol = 3, byrow = FALSE)\n",
        "mat_col"
      ],
      "metadata": {
        "colab": {
          "base_uri": "https://localhost:8080/",
          "height": 132
        },
        "id": "AUbGQnyiyw7y",
        "outputId": "d22b8c17-f7a1-4ccb-d0e1-7ee4a6a6649d"
      },
      "execution_count": null,
      "outputs": [
        {
          "output_type": "display_data",
          "data": {
            "text/html": [
              "<table class=\"dataframe\">\n",
              "<caption>A matrix: 2 × 3 of type dbl</caption>\n",
              "<tbody>\n",
              "\t<tr><td>1</td><td>3</td><td>5</td></tr>\n",
              "\t<tr><td>2</td><td>4</td><td>6</td></tr>\n",
              "</tbody>\n",
              "</table>\n"
            ],
            "text/markdown": "\nA matrix: 2 × 3 of type dbl\n\n| 1 | 3 | 5 |\n| 2 | 4 | 6 |\n\n",
            "text/latex": "A matrix: 2 × 3 of type dbl\n\\begin{tabular}{lll}\n\t 1 & 3 & 5\\\\\n\t 2 & 4 & 6\\\\\n\\end{tabular}\n",
            "text/plain": [
              "     [,1] [,2] [,3]\n",
              "[1,] 1    3    5   \n",
              "[2,] 2    4    6   "
            ]
          },
          "metadata": {}
        }
      ]
    },
    {
      "cell_type": "code",
      "source": [
        "mat_row = matrix(data = c(1,2,3,4,5,6), nrow = 2, ncol = 3, byrow = TRUE)\n",
        "mat_row"
      ],
      "metadata": {
        "colab": {
          "base_uri": "https://localhost:8080/",
          "height": 132
        },
        "id": "nFuQg4ouzJF_",
        "outputId": "15ed4b38-dc2a-45ec-efdc-4a8a74fcda3c"
      },
      "execution_count": null,
      "outputs": [
        {
          "output_type": "display_data",
          "data": {
            "text/html": [
              "<table class=\"dataframe\">\n",
              "<caption>A matrix: 2 × 3 of type dbl</caption>\n",
              "<tbody>\n",
              "\t<tr><td>1</td><td>2</td><td>3</td></tr>\n",
              "\t<tr><td>4</td><td>5</td><td>6</td></tr>\n",
              "</tbody>\n",
              "</table>\n"
            ],
            "text/markdown": "\nA matrix: 2 × 3 of type dbl\n\n| 1 | 2 | 3 |\n| 4 | 5 | 6 |\n\n",
            "text/latex": "A matrix: 2 × 3 of type dbl\n\\begin{tabular}{lll}\n\t 1 & 2 & 3\\\\\n\t 4 & 5 & 6\\\\\n\\end{tabular}\n",
            "text/plain": [
              "     [,1] [,2] [,3]\n",
              "[1,] 1    2    3   \n",
              "[2,] 4    5    6   "
            ]
          },
          "metadata": {}
        }
      ]
    },
    {
      "cell_type": "code",
      "source": [
        "# Multiple vectors could be arranged in array, rbind, cbind\n",
        "rbind(1:3,4:6)"
      ],
      "metadata": {
        "colab": {
          "base_uri": "https://localhost:8080/",
          "height": 132
        },
        "id": "LuHRfE4hzY-S",
        "outputId": "53d7c0a8-c029-40c5-a84c-2f65d4cb00b0"
      },
      "execution_count": null,
      "outputs": [
        {
          "output_type": "display_data",
          "data": {
            "text/html": [
              "<table class=\"dataframe\">\n",
              "<caption>A matrix: 2 × 3 of type int</caption>\n",
              "<tbody>\n",
              "\t<tr><td>1</td><td>2</td><td>3</td></tr>\n",
              "\t<tr><td>4</td><td>5</td><td>6</td></tr>\n",
              "</tbody>\n",
              "</table>\n"
            ],
            "text/markdown": "\nA matrix: 2 × 3 of type int\n\n| 1 | 2 | 3 |\n| 4 | 5 | 6 |\n\n",
            "text/latex": "A matrix: 2 × 3 of type int\n\\begin{tabular}{lll}\n\t 1 & 2 & 3\\\\\n\t 4 & 5 & 6\\\\\n\\end{tabular}\n",
            "text/plain": [
              "     [,1] [,2] [,3]\n",
              "[1,] 1    2    3   \n",
              "[2,] 4    5    6   "
            ]
          },
          "metadata": {}
        }
      ]
    },
    {
      "cell_type": "code",
      "source": [
        "cbind(c(1,4),c(2,5),c(3,6))"
      ],
      "metadata": {
        "colab": {
          "base_uri": "https://localhost:8080/",
          "height": 132
        },
        "id": "k1--B_Bdzxwm",
        "outputId": "fb115dc4-6dc1-4e96-d740-3b2a3c6f0524"
      },
      "execution_count": null,
      "outputs": [
        {
          "output_type": "display_data",
          "data": {
            "text/html": [
              "<table class=\"dataframe\">\n",
              "<caption>A matrix: 2 × 3 of type dbl</caption>\n",
              "<tbody>\n",
              "\t<tr><td>1</td><td>2</td><td>3</td></tr>\n",
              "\t<tr><td>4</td><td>5</td><td>6</td></tr>\n",
              "</tbody>\n",
              "</table>\n"
            ],
            "text/markdown": "\nA matrix: 2 × 3 of type dbl\n\n| 1 | 2 | 3 |\n| 4 | 5 | 6 |\n\n",
            "text/latex": "A matrix: 2 × 3 of type dbl\n\\begin{tabular}{lll}\n\t 1 & 2 & 3\\\\\n\t 4 & 5 & 6\\\\\n\\end{tabular}\n",
            "text/plain": [
              "     [,1] [,2] [,3]\n",
              "[1,] 1    2    3   \n",
              "[2,] 4    5    6   "
            ]
          },
          "metadata": {}
        }
      ]
    },
    {
      "cell_type": "code",
      "source": [
        "# \"dim\" gives the dimension of a matrix\n",
        "mymat <- rbind(c(1,3,4),5:3, c(100,20,90), 11:13)\n",
        "mymat"
      ],
      "metadata": {
        "colab": {
          "base_uri": "https://localhost:8080/",
          "height": 177
        },
        "id": "pVktqJcMz-P2",
        "outputId": "8570bbc1-e14c-417c-cadc-a954ee3112cd"
      },
      "execution_count": null,
      "outputs": [
        {
          "output_type": "display_data",
          "data": {
            "text/html": [
              "<table class=\"dataframe\">\n",
              "<caption>A matrix: 4 × 3 of type dbl</caption>\n",
              "<tbody>\n",
              "\t<tr><td>  1</td><td> 3</td><td> 4</td></tr>\n",
              "\t<tr><td>  5</td><td> 4</td><td> 3</td></tr>\n",
              "\t<tr><td>100</td><td>20</td><td>90</td></tr>\n",
              "\t<tr><td> 11</td><td>12</td><td>13</td></tr>\n",
              "</tbody>\n",
              "</table>\n"
            ],
            "text/markdown": "\nA matrix: 4 × 3 of type dbl\n\n|   1 |  3 |  4 |\n|   5 |  4 |  3 |\n| 100 | 20 | 90 |\n|  11 | 12 | 13 |\n\n",
            "text/latex": "A matrix: 4 × 3 of type dbl\n\\begin{tabular}{lll}\n\t   1 &  3 &  4\\\\\n\t   5 &  4 &  3\\\\\n\t 100 & 20 & 90\\\\\n\t  11 & 12 & 13\\\\\n\\end{tabular}\n",
            "text/plain": [
              "     [,1] [,2] [,3]\n",
              "[1,]   1   3    4  \n",
              "[2,]   5   4    3  \n",
              "[3,] 100  20   90  \n",
              "[4,]  11  12   13  "
            ]
          },
          "metadata": {}
        }
      ]
    },
    {
      "cell_type": "code",
      "source": [
        "print(dim(mymat))\n",
        "print(nrow(mymat))\n",
        "print(ncol(mymat))\n",
        "print(dim(mymat)[2])"
      ],
      "metadata": {
        "colab": {
          "base_uri": "https://localhost:8080/"
        },
        "id": "Yn21hg415ygf",
        "outputId": "2acc77c7-26cf-4ddb-ea65-a60a42b64aaf"
      },
      "execution_count": null,
      "outputs": [
        {
          "output_type": "stream",
          "name": "stdout",
          "text": [
            "[1] 4 3\n",
            "[1] 4\n",
            "[1] 3\n",
            "[1] 3\n"
          ]
        }
      ]
    },
    {
      "cell_type": "markdown",
      "source": [
        "###**Extracting Elements from a matrix**"
      ],
      "metadata": {
        "id": "kr6j9tv66KgB"
      }
    },
    {
      "cell_type": "code",
      "source": [
        "A <- matrix(c(0.3,4.5,55.3,91,0.1,105.5,-4.2,8.2,27.9), nrow = 3, ncol = 3)\n",
        "A"
      ],
      "metadata": {
        "colab": {
          "base_uri": "https://localhost:8080/",
          "height": 146
        },
        "id": "WW1zo6p50RKs",
        "outputId": "54d7cbc2-f02a-490a-edde-21179e090ecd"
      },
      "execution_count": null,
      "outputs": [
        {
          "output_type": "display_data",
          "data": {
            "text/html": [
              "<table class=\"dataframe\">\n",
              "<caption>A matrix: 3 × 3 of type dbl</caption>\n",
              "<tbody>\n",
              "\t<tr><td> 0.3</td><td> 91.0</td><td>-4.2</td></tr>\n",
              "\t<tr><td> 4.5</td><td>  0.1</td><td> 8.2</td></tr>\n",
              "\t<tr><td>55.3</td><td>105.5</td><td>27.9</td></tr>\n",
              "</tbody>\n",
              "</table>\n"
            ],
            "text/markdown": "\nA matrix: 3 × 3 of type dbl\n\n|  0.3 |  91.0 | -4.2 |\n|  4.5 |   0.1 |  8.2 |\n| 55.3 | 105.5 | 27.9 |\n\n",
            "text/latex": "A matrix: 3 × 3 of type dbl\n\\begin{tabular}{lll}\n\t  0.3 &  91.0 & -4.2\\\\\n\t  4.5 &   0.1 &  8.2\\\\\n\t 55.3 & 105.5 & 27.9\\\\\n\\end{tabular}\n",
            "text/plain": [
              "     [,1] [,2]  [,3]\n",
              "[1,]  0.3  91.0 -4.2\n",
              "[2,]  4.5   0.1  8.2\n",
              "[3,] 55.3 105.5 27.9"
            ]
          },
          "metadata": {}
        }
      ]
    },
    {
      "cell_type": "code",
      "source": [
        "diag(x = A)"
      ],
      "metadata": {
        "colab": {
          "base_uri": "https://localhost:8080/",
          "height": 34
        },
        "id": "8lZ8KGW203FQ",
        "outputId": "b788cda8-33d4-496a-f2cd-935903edee13"
      },
      "execution_count": null,
      "outputs": [
        {
          "output_type": "display_data",
          "data": {
            "text/html": [
              "<style>\n",
              ".list-inline {list-style: none; margin:0; padding: 0}\n",
              ".list-inline>li {display: inline-block}\n",
              ".list-inline>li:not(:last-child)::after {content: \"\\00b7\"; padding: 0 .5ex}\n",
              "</style>\n",
              "<ol class=list-inline><li>0.3</li><li>0.1</li><li>27.9</li></ol>\n"
            ],
            "text/markdown": "1. 0.3\n2. 0.1\n3. 27.9\n\n\n",
            "text/latex": "\\begin{enumerate*}\n\\item 0.3\n\\item 0.1\n\\item 27.9\n\\end{enumerate*}\n",
            "text/plain": [
              "[1]  0.3  0.1 27.9"
            ]
          },
          "metadata": {}
        }
      ]
    },
    {
      "cell_type": "code",
      "source": [
        "A[3,2]"
      ],
      "metadata": {
        "colab": {
          "base_uri": "https://localhost:8080/",
          "height": 34
        },
        "id": "oAU58-1a1CLM",
        "outputId": "6acfa772-e60d-4ccb-8fdb-9a5729d66f7d"
      },
      "execution_count": null,
      "outputs": [
        {
          "output_type": "display_data",
          "data": {
            "text/html": [
              "105.5"
            ],
            "text/markdown": "105.5",
            "text/latex": "105.5",
            "text/plain": [
              "[1] 105.5"
            ]
          },
          "metadata": {}
        }
      ]
    },
    {
      "cell_type": "code",
      "source": [
        "A[,2]"
      ],
      "metadata": {
        "colab": {
          "base_uri": "https://localhost:8080/",
          "height": 34
        },
        "id": "YYXGU2-c1If7",
        "outputId": "6a7a8183-63b3-4c14-b488-9f1dbac9a65f"
      },
      "execution_count": null,
      "outputs": [
        {
          "output_type": "display_data",
          "data": {
            "text/html": [
              "<style>\n",
              ".list-inline {list-style: none; margin:0; padding: 0}\n",
              ".list-inline>li {display: inline-block}\n",
              ".list-inline>li:not(:last-child)::after {content: \"\\00b7\"; padding: 0 .5ex}\n",
              "</style>\n",
              "<ol class=list-inline><li>91</li><li>0.1</li><li>105.5</li></ol>\n"
            ],
            "text/markdown": "1. 91\n2. 0.1\n3. 105.5\n\n\n",
            "text/latex": "\\begin{enumerate*}\n\\item 91\n\\item 0.1\n\\item 105.5\n\\end{enumerate*}\n",
            "text/plain": [
              "[1]  91.0   0.1 105.5"
            ]
          },
          "metadata": {}
        }
      ]
    },
    {
      "cell_type": "code",
      "source": [
        "A[2:3,]"
      ],
      "metadata": {
        "colab": {
          "base_uri": "https://localhost:8080/",
          "height": 114
        },
        "id": "chmFmYqz1M89",
        "outputId": "a6623cc2-e12b-4f37-8316-0868b53c80f8"
      },
      "execution_count": null,
      "outputs": [
        {
          "output_type": "display_data",
          "data": {
            "text/html": [
              "<table class=\"dataframe\">\n",
              "<caption>A matrix: 2 × 3 of type dbl</caption>\n",
              "<tbody>\n",
              "\t<tr><td> 4.5</td><td>  0.1</td><td> 8.2</td></tr>\n",
              "\t<tr><td>55.3</td><td>105.5</td><td>27.9</td></tr>\n",
              "</tbody>\n",
              "</table>\n"
            ],
            "text/markdown": "\nA matrix: 2 × 3 of type dbl\n\n|  4.5 |   0.1 |  8.2 |\n| 55.3 | 105.5 | 27.9 |\n\n",
            "text/latex": "A matrix: 2 × 3 of type dbl\n\\begin{tabular}{lll}\n\t  4.5 &   0.1 &  8.2\\\\\n\t 55.3 & 105.5 & 27.9\\\\\n\\end{tabular}\n",
            "text/plain": [
              "     [,1] [,2]  [,3]\n",
              "[1,]  4.5   0.1  8.2\n",
              "[2,] 55.3 105.5 27.9"
            ]
          },
          "metadata": {}
        }
      ]
    },
    {
      "cell_type": "code",
      "source": [
        "A[,c(3,1)]"
      ],
      "metadata": {
        "colab": {
          "base_uri": "https://localhost:8080/",
          "height": 146
        },
        "id": "t0aPcvTd1ZBz",
        "outputId": "37c612d1-8a5d-4524-96e5-f1a318b3f5cb"
      },
      "execution_count": null,
      "outputs": [
        {
          "output_type": "display_data",
          "data": {
            "text/html": [
              "<table class=\"dataframe\">\n",
              "<caption>A matrix: 3 × 2 of type dbl</caption>\n",
              "<tbody>\n",
              "\t<tr><td>-4.2</td><td> 0.3</td></tr>\n",
              "\t<tr><td> 8.2</td><td> 4.5</td></tr>\n",
              "\t<tr><td>27.9</td><td>55.3</td></tr>\n",
              "</tbody>\n",
              "</table>\n"
            ],
            "text/markdown": "\nA matrix: 3 × 2 of type dbl\n\n| -4.2 |  0.3 |\n|  8.2 |  4.5 |\n| 27.9 | 55.3 |\n\n",
            "text/latex": "A matrix: 3 × 2 of type dbl\n\\begin{tabular}{ll}\n\t -4.2 &  0.3\\\\\n\t  8.2 &  4.5\\\\\n\t 27.9 & 55.3\\\\\n\\end{tabular}\n",
            "text/plain": [
              "     [,1] [,2]\n",
              "[1,] -4.2  0.3\n",
              "[2,]  8.2  4.5\n",
              "[3,] 27.9 55.3"
            ]
          },
          "metadata": {}
        }
      ]
    },
    {
      "cell_type": "code",
      "source": [
        "A[c(3,1),2:3]"
      ],
      "metadata": {
        "colab": {
          "base_uri": "https://localhost:8080/",
          "height": 114
        },
        "id": "sA2yxr131jHk",
        "outputId": "e8bf22e7-9b5c-452c-b73d-cb29578c4fa3"
      },
      "execution_count": null,
      "outputs": [
        {
          "output_type": "display_data",
          "data": {
            "text/html": [
              "<table class=\"dataframe\">\n",
              "<caption>A matrix: 2 × 2 of type dbl</caption>\n",
              "<tbody>\n",
              "\t<tr><td>105.5</td><td>27.9</td></tr>\n",
              "\t<tr><td> 91.0</td><td>-4.2</td></tr>\n",
              "</tbody>\n",
              "</table>\n"
            ],
            "text/markdown": "\nA matrix: 2 × 2 of type dbl\n\n| 105.5 | 27.9 |\n|  91.0 | -4.2 |\n\n",
            "text/latex": "A matrix: 2 × 2 of type dbl\n\\begin{tabular}{ll}\n\t 105.5 & 27.9\\\\\n\t  91.0 & -4.2\\\\\n\\end{tabular}\n",
            "text/plain": [
              "     [,1]  [,2]\n",
              "[1,] 105.5 27.9\n",
              "[2,]  91.0 -4.2"
            ]
          },
          "metadata": {}
        }
      ]
    },
    {
      "cell_type": "markdown",
      "source": [
        "###**Manipulating Matrix**"
      ],
      "metadata": {
        "id": "4e3EpifF6SWD"
      }
    },
    {
      "cell_type": "code",
      "source": [
        "A"
      ],
      "metadata": {
        "colab": {
          "base_uri": "https://localhost:8080/",
          "height": 146
        },
        "id": "hkaPedgu1zMq",
        "outputId": "ab83380c-fb9a-401c-8812-4bbe7b4034d3"
      },
      "execution_count": null,
      "outputs": [
        {
          "output_type": "display_data",
          "data": {
            "text/html": [
              "<table class=\"dataframe\">\n",
              "<caption>A matrix: 3 × 3 of type dbl</caption>\n",
              "<tbody>\n",
              "\t<tr><td> 0.3</td><td> 91.0</td><td>-4.2</td></tr>\n",
              "\t<tr><td> 4.5</td><td>  0.1</td><td> 8.2</td></tr>\n",
              "\t<tr><td>55.3</td><td>105.5</td><td>27.9</td></tr>\n",
              "</tbody>\n",
              "</table>\n"
            ],
            "text/markdown": "\nA matrix: 3 × 3 of type dbl\n\n|  0.3 |  91.0 | -4.2 |\n|  4.5 |   0.1 |  8.2 |\n| 55.3 | 105.5 | 27.9 |\n\n",
            "text/latex": "A matrix: 3 × 3 of type dbl\n\\begin{tabular}{lll}\n\t  0.3 &  91.0 & -4.2\\\\\n\t  4.5 &   0.1 &  8.2\\\\\n\t 55.3 & 105.5 & 27.9\\\\\n\\end{tabular}\n",
            "text/plain": [
              "     [,1] [,2]  [,3]\n",
              "[1,]  0.3  91.0 -4.2\n",
              "[2,]  4.5   0.1  8.2\n",
              "[3,] 55.3 105.5 27.9"
            ]
          },
          "metadata": {}
        }
      ]
    },
    {
      "cell_type": "code",
      "source": [
        "A[,-2]"
      ],
      "metadata": {
        "colab": {
          "base_uri": "https://localhost:8080/",
          "height": 146
        },
        "id": "LzmGPchT15j-",
        "outputId": "42caffee-eb48-4662-9f8d-c7e1c6b47b97"
      },
      "execution_count": null,
      "outputs": [
        {
          "output_type": "display_data",
          "data": {
            "text/html": [
              "<table class=\"dataframe\">\n",
              "<caption>A matrix: 3 × 2 of type dbl</caption>\n",
              "<tbody>\n",
              "\t<tr><td> 0.3</td><td>-4.2</td></tr>\n",
              "\t<tr><td> 4.5</td><td> 8.2</td></tr>\n",
              "\t<tr><td>55.3</td><td>27.9</td></tr>\n",
              "</tbody>\n",
              "</table>\n"
            ],
            "text/markdown": "\nA matrix: 3 × 2 of type dbl\n\n|  0.3 | -4.2 |\n|  4.5 |  8.2 |\n| 55.3 | 27.9 |\n\n",
            "text/latex": "A matrix: 3 × 2 of type dbl\n\\begin{tabular}{ll}\n\t  0.3 & -4.2\\\\\n\t  4.5 &  8.2\\\\\n\t 55.3 & 27.9\\\\\n\\end{tabular}\n",
            "text/plain": [
              "     [,1] [,2]\n",
              "[1,]  0.3 -4.2\n",
              "[2,]  4.5  8.2\n",
              "[3,] 55.3 27.9"
            ]
          },
          "metadata": {}
        }
      ]
    },
    {
      "cell_type": "code",
      "source": [
        "A[-1,3:2]"
      ],
      "metadata": {
        "colab": {
          "base_uri": "https://localhost:8080/",
          "height": 114
        },
        "id": "w_j3VJ5H2EZN",
        "outputId": "1360a42f-626d-4c4d-bef9-4f5020ec4162"
      },
      "execution_count": null,
      "outputs": [
        {
          "output_type": "display_data",
          "data": {
            "text/html": [
              "<table class=\"dataframe\">\n",
              "<caption>A matrix: 2 × 2 of type dbl</caption>\n",
              "<tbody>\n",
              "\t<tr><td> 8.2</td><td>  0.1</td></tr>\n",
              "\t<tr><td>27.9</td><td>105.5</td></tr>\n",
              "</tbody>\n",
              "</table>\n"
            ],
            "text/markdown": "\nA matrix: 2 × 2 of type dbl\n\n|  8.2 |   0.1 |\n| 27.9 | 105.5 |\n\n",
            "text/latex": "A matrix: 2 × 2 of type dbl\n\\begin{tabular}{ll}\n\t  8.2 &   0.1\\\\\n\t 27.9 & 105.5\\\\\n\\end{tabular}\n",
            "text/plain": [
              "     [,1] [,2] \n",
              "[1,]  8.2   0.1\n",
              "[2,] 27.9 105.5"
            ]
          },
          "metadata": {}
        }
      ]
    },
    {
      "cell_type": "code",
      "source": [
        "A[-1,-2]"
      ],
      "metadata": {
        "colab": {
          "base_uri": "https://localhost:8080/",
          "height": 114
        },
        "id": "_itohb_22RcT",
        "outputId": "f03116b8-5c79-4a0c-f15b-2cae8da288c0"
      },
      "execution_count": null,
      "outputs": [
        {
          "output_type": "display_data",
          "data": {
            "text/html": [
              "<table class=\"dataframe\">\n",
              "<caption>A matrix: 2 × 2 of type dbl</caption>\n",
              "<tbody>\n",
              "\t<tr><td> 4.5</td><td> 8.2</td></tr>\n",
              "\t<tr><td>55.3</td><td>27.9</td></tr>\n",
              "</tbody>\n",
              "</table>\n"
            ],
            "text/markdown": "\nA matrix: 2 × 2 of type dbl\n\n|  4.5 |  8.2 |\n| 55.3 | 27.9 |\n\n",
            "text/latex": "A matrix: 2 × 2 of type dbl\n\\begin{tabular}{ll}\n\t  4.5 &  8.2\\\\\n\t 55.3 & 27.9\\\\\n\\end{tabular}\n",
            "text/plain": [
              "     [,1] [,2]\n",
              "[1,]  4.5  8.2\n",
              "[2,] 55.3 27.9"
            ]
          },
          "metadata": {}
        }
      ]
    },
    {
      "cell_type": "code",
      "source": [
        "A[-1,-c(2,3)]"
      ],
      "metadata": {
        "colab": {
          "base_uri": "https://localhost:8080/",
          "height": 34
        },
        "id": "6Ir3Big42XPd",
        "outputId": "ec1e089f-5556-407d-d90d-899ac447eac0"
      },
      "execution_count": null,
      "outputs": [
        {
          "output_type": "display_data",
          "data": {
            "text/html": [
              "<style>\n",
              ".list-inline {list-style: none; margin:0; padding: 0}\n",
              ".list-inline>li {display: inline-block}\n",
              ".list-inline>li:not(:last-child)::after {content: \"\\00b7\"; padding: 0 .5ex}\n",
              "</style>\n",
              "<ol class=list-inline><li>4.5</li><li>55.3</li></ol>\n"
            ],
            "text/markdown": "1. 4.5\n2. 55.3\n\n\n",
            "text/latex": "\\begin{enumerate*}\n\\item 4.5\n\\item 55.3\n\\end{enumerate*}\n",
            "text/plain": [
              "[1]  4.5 55.3"
            ]
          },
          "metadata": {}
        }
      ]
    },
    {
      "cell_type": "code",
      "source": [
        "B <- A\n",
        "B"
      ],
      "metadata": {
        "colab": {
          "base_uri": "https://localhost:8080/",
          "height": 146
        },
        "id": "f18MDNtX2iIE",
        "outputId": "44cde331-e686-4a29-c606-d1d2f23c232e"
      },
      "execution_count": null,
      "outputs": [
        {
          "output_type": "display_data",
          "data": {
            "text/html": [
              "<table class=\"dataframe\">\n",
              "<caption>A matrix: 3 × 3 of type dbl</caption>\n",
              "<tbody>\n",
              "\t<tr><td> 0.3</td><td> 91.0</td><td>-4.2</td></tr>\n",
              "\t<tr><td> 4.5</td><td>  0.1</td><td> 8.2</td></tr>\n",
              "\t<tr><td>55.3</td><td>105.5</td><td>27.9</td></tr>\n",
              "</tbody>\n",
              "</table>\n"
            ],
            "text/markdown": "\nA matrix: 3 × 3 of type dbl\n\n|  0.3 |  91.0 | -4.2 |\n|  4.5 |   0.1 |  8.2 |\n| 55.3 | 105.5 | 27.9 |\n\n",
            "text/latex": "A matrix: 3 × 3 of type dbl\n\\begin{tabular}{lll}\n\t  0.3 &  91.0 & -4.2\\\\\n\t  4.5 &   0.1 &  8.2\\\\\n\t 55.3 & 105.5 & 27.9\\\\\n\\end{tabular}\n",
            "text/plain": [
              "     [,1] [,2]  [,3]\n",
              "[1,]  0.3  91.0 -4.2\n",
              "[2,]  4.5   0.1  8.2\n",
              "[3,] 55.3 105.5 27.9"
            ]
          },
          "metadata": {}
        }
      ]
    },
    {
      "cell_type": "code",
      "source": [
        "B[2,] <- 1:3\n",
        "B"
      ],
      "metadata": {
        "colab": {
          "base_uri": "https://localhost:8080/",
          "height": 146
        },
        "id": "bVn9zA2l2sC9",
        "outputId": "27eb9646-c546-4df1-eb62-6a826bcacb5d"
      },
      "execution_count": null,
      "outputs": [
        {
          "output_type": "display_data",
          "data": {
            "text/html": [
              "<table class=\"dataframe\">\n",
              "<caption>A matrix: 3 × 3 of type dbl</caption>\n",
              "<tbody>\n",
              "\t<tr><td> 0.3</td><td> 91.0</td><td>-4.2</td></tr>\n",
              "\t<tr><td> 1.0</td><td>  2.0</td><td> 3.0</td></tr>\n",
              "\t<tr><td>55.3</td><td>105.5</td><td>27.9</td></tr>\n",
              "</tbody>\n",
              "</table>\n"
            ],
            "text/markdown": "\nA matrix: 3 × 3 of type dbl\n\n|  0.3 |  91.0 | -4.2 |\n|  1.0 |   2.0 |  3.0 |\n| 55.3 | 105.5 | 27.9 |\n\n",
            "text/latex": "A matrix: 3 × 3 of type dbl\n\\begin{tabular}{lll}\n\t  0.3 &  91.0 & -4.2\\\\\n\t  1.0 &   2.0 &  3.0\\\\\n\t 55.3 & 105.5 & 27.9\\\\\n\\end{tabular}\n",
            "text/plain": [
              "     [,1] [,2]  [,3]\n",
              "[1,]  0.3  91.0 -4.2\n",
              "[2,]  1.0   2.0  3.0\n",
              "[3,] 55.3 105.5 27.9"
            ]
          },
          "metadata": {}
        }
      ]
    },
    {
      "cell_type": "code",
      "source": [
        "B[c(1,3),2] <- 900\n",
        "B"
      ],
      "metadata": {
        "colab": {
          "base_uri": "https://localhost:8080/",
          "height": 146
        },
        "id": "OSZJihao235j",
        "outputId": "958655f1-493e-475e-99b4-73547e9b9396"
      },
      "execution_count": null,
      "outputs": [
        {
          "output_type": "display_data",
          "data": {
            "text/html": [
              "<table class=\"dataframe\">\n",
              "<caption>A matrix: 3 × 3 of type dbl</caption>\n",
              "<tbody>\n",
              "\t<tr><td> 0.3</td><td>900</td><td>-4.2</td></tr>\n",
              "\t<tr><td> 1.0</td><td>  2</td><td> 3.0</td></tr>\n",
              "\t<tr><td>55.3</td><td>900</td><td>27.9</td></tr>\n",
              "</tbody>\n",
              "</table>\n"
            ],
            "text/markdown": "\nA matrix: 3 × 3 of type dbl\n\n|  0.3 | 900 | -4.2 |\n|  1.0 |   2 |  3.0 |\n| 55.3 | 900 | 27.9 |\n\n",
            "text/latex": "A matrix: 3 × 3 of type dbl\n\\begin{tabular}{lll}\n\t  0.3 & 900 & -4.2\\\\\n\t  1.0 &   2 &  3.0\\\\\n\t 55.3 & 900 & 27.9\\\\\n\\end{tabular}\n",
            "text/plain": [
              "     [,1] [,2] [,3]\n",
              "[1,]  0.3 900  -4.2\n",
              "[2,]  1.0   2   3.0\n",
              "[3,] 55.3 900  27.9"
            ]
          },
          "metadata": {}
        }
      ]
    },
    {
      "cell_type": "code",
      "source": [
        "B[,3] <- B[3,]"
      ],
      "metadata": {
        "id": "jyi16rCH3Ikz"
      },
      "execution_count": null,
      "outputs": []
    },
    {
      "cell_type": "code",
      "source": [
        "A"
      ],
      "metadata": {
        "colab": {
          "base_uri": "https://localhost:8080/",
          "height": 146
        },
        "id": "iYRA0bfO3eEE",
        "outputId": "d75af527-f724-4cd7-cf1d-f0063af9ed17"
      },
      "execution_count": null,
      "outputs": [
        {
          "output_type": "display_data",
          "data": {
            "text/html": [
              "<table class=\"dataframe\">\n",
              "<caption>A matrix: 3 × 3 of type dbl</caption>\n",
              "<tbody>\n",
              "\t<tr><td> 0.3</td><td> 91.0</td><td>-4.2</td></tr>\n",
              "\t<tr><td> 4.5</td><td>  0.1</td><td> 8.2</td></tr>\n",
              "\t<tr><td>55.3</td><td>105.5</td><td>27.9</td></tr>\n",
              "</tbody>\n",
              "</table>\n"
            ],
            "text/markdown": "\nA matrix: 3 × 3 of type dbl\n\n|  0.3 |  91.0 | -4.2 |\n|  4.5 |   0.1 |  8.2 |\n| 55.3 | 105.5 | 27.9 |\n\n",
            "text/latex": "A matrix: 3 × 3 of type dbl\n\\begin{tabular}{lll}\n\t  0.3 &  91.0 & -4.2\\\\\n\t  4.5 &   0.1 &  8.2\\\\\n\t 55.3 & 105.5 & 27.9\\\\\n\\end{tabular}\n",
            "text/plain": [
              "     [,1] [,2]  [,3]\n",
              "[1,]  0.3  91.0 -4.2\n",
              "[2,]  4.5   0.1  8.2\n",
              "[3,] 55.3 105.5 27.9"
            ]
          },
          "metadata": {}
        }
      ]
    },
    {
      "cell_type": "code",
      "source": [
        "B[c(1,3),2:1] <- c(65,-65,88,-88)\n",
        "B"
      ],
      "metadata": {
        "colab": {
          "base_uri": "https://localhost:8080/",
          "height": 146
        },
        "id": "LydmsJkO3t9s",
        "outputId": "afce02cf-4d9c-47ea-d3aa-3182b6e23be4"
      },
      "execution_count": null,
      "outputs": [
        {
          "output_type": "display_data",
          "data": {
            "text/html": [
              "<table class=\"dataframe\">\n",
              "<caption>A matrix: 3 × 3 of type dbl</caption>\n",
              "<tbody>\n",
              "\t<tr><td> 88</td><td> 65</td><td> 55.3</td></tr>\n",
              "\t<tr><td>  1</td><td>  2</td><td>900.0</td></tr>\n",
              "\t<tr><td>-88</td><td>-65</td><td> 27.9</td></tr>\n",
              "</tbody>\n",
              "</table>\n"
            ],
            "text/markdown": "\nA matrix: 3 × 3 of type dbl\n\n|  88 |  65 |  55.3 |\n|   1 |   2 | 900.0 |\n| -88 | -65 |  27.9 |\n\n",
            "text/latex": "A matrix: 3 × 3 of type dbl\n\\begin{tabular}{lll}\n\t  88 &  65 &  55.3\\\\\n\t   1 &   2 & 900.0\\\\\n\t -88 & -65 &  27.9\\\\\n\\end{tabular}\n",
            "text/plain": [
              "     [,1] [,2] [,3] \n",
              "[1,]  88   65   55.3\n",
              "[2,]   1    2  900.0\n",
              "[3,] -88  -65   27.9"
            ]
          },
          "metadata": {}
        }
      ]
    },
    {
      "cell_type": "code",
      "source": [
        "B[c(1,3),c(1,3)] <- c(-7,7)\n",
        "B"
      ],
      "metadata": {
        "colab": {
          "base_uri": "https://localhost:8080/",
          "height": 146
        },
        "id": "-fD-itnd4Esf",
        "outputId": "4c0aeea0-5928-47eb-c306-9185b3d14593"
      },
      "execution_count": null,
      "outputs": [
        {
          "output_type": "display_data",
          "data": {
            "text/html": [
              "<table class=\"dataframe\">\n",
              "<caption>A matrix: 3 × 3 of type dbl</caption>\n",
              "<tbody>\n",
              "\t<tr><td>-7</td><td> 65</td><td> -7</td></tr>\n",
              "\t<tr><td> 1</td><td>  2</td><td>900</td></tr>\n",
              "\t<tr><td> 7</td><td>-65</td><td>  7</td></tr>\n",
              "</tbody>\n",
              "</table>\n"
            ],
            "text/markdown": "\nA matrix: 3 × 3 of type dbl\n\n| -7 |  65 |  -7 |\n|  1 |   2 | 900 |\n|  7 | -65 |   7 |\n\n",
            "text/latex": "A matrix: 3 × 3 of type dbl\n\\begin{tabular}{lll}\n\t -7 &  65 &  -7\\\\\n\t  1 &   2 & 900\\\\\n\t  7 & -65 &   7\\\\\n\\end{tabular}\n",
            "text/plain": [
              "     [,1] [,2] [,3]\n",
              "[1,] -7    65   -7 \n",
              "[2,]  1     2  900 \n",
              "[3,]  7   -65    7 "
            ]
          },
          "metadata": {}
        }
      ]
    },
    {
      "cell_type": "code",
      "source": [
        "diag(x = B) <- rep(x = 0, times = 3)\n",
        "B"
      ],
      "metadata": {
        "colab": {
          "base_uri": "https://localhost:8080/",
          "height": 146
        },
        "id": "uvj5NP4-4O9U",
        "outputId": "b2a655ee-b08b-46c4-c42a-0db7763f562b"
      },
      "execution_count": null,
      "outputs": [
        {
          "output_type": "display_data",
          "data": {
            "text/html": [
              "<table class=\"dataframe\">\n",
              "<caption>A matrix: 3 × 3 of type dbl</caption>\n",
              "<tbody>\n",
              "\t<tr><td>0</td><td> 65</td><td> -7</td></tr>\n",
              "\t<tr><td>1</td><td>  0</td><td>900</td></tr>\n",
              "\t<tr><td>7</td><td>-65</td><td>  0</td></tr>\n",
              "</tbody>\n",
              "</table>\n"
            ],
            "text/markdown": "\nA matrix: 3 × 3 of type dbl\n\n| 0 |  65 |  -7 |\n| 1 |   0 | 900 |\n| 7 | -65 |   0 |\n\n",
            "text/latex": "A matrix: 3 × 3 of type dbl\n\\begin{tabular}{lll}\n\t 0 &  65 &  -7\\\\\n\t 1 &   0 & 900\\\\\n\t 7 & -65 &   0\\\\\n\\end{tabular}\n",
            "text/plain": [
              "     [,1] [,2] [,3]\n",
              "[1,] 0     65   -7 \n",
              "[2,] 1      0  900 \n",
              "[3,] 7    -65    0 "
            ]
          },
          "metadata": {}
        }
      ]
    }
  ]
}